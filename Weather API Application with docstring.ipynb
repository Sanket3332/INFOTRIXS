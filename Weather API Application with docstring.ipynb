{
 "cells": [
  {
   "cell_type": "markdown",
   "id": "e63a375a",
   "metadata": {},
   "source": [
    "# Importing Required Libraries"
   ]
  },
  {
   "cell_type": "code",
   "execution_count": 30,
   "id": "64f996a9",
   "metadata": {},
   "outputs": [
    {
     "name": "stdout",
     "output_type": "stream",
     "text": [
      "The version of request library is: 2.31.0\n",
      "The version of argparse library is: 1.1\n"
     ]
    }
   ],
   "source": [
    "#Python standard library and provides classes for working with dates and times.\n",
    "import datetime as dt\n",
    "\n",
    "#popular third-party library used for making HTTP requests to web services or APIs.\n",
    "import requests as rq\n",
    "##checking the version of requests library\n",
    "print(\"The version of request library is: {}\".format(rq.__version__))\n",
    "\n",
    "#python library to interact with the Python interpreter and the underlying operating system\n",
    "import sys\n",
    "\n",
    "#python library to define and handle command-line arguments\n",
    "import argparse as argp\n",
    "##checking the version of argparse library\n",
    "print(\"The version of argparse library is: {}\".format(argp.__version__))"
   ]
  },
  {
   "cell_type": "markdown",
   "id": "18eb0a29",
   "metadata": {},
   "source": [
    "# Defining URL'S and raising a request "
   ]
  },
  {
   "cell_type": "code",
   "execution_count": 35,
   "id": "b347e6d1",
   "metadata": {},
   "outputs": [
    {
     "name": "stdout",
     "output_type": "stream",
     "text": [
      "Enter your city name : Pune\n"
     ]
    }
   ],
   "source": [
    "#Defining the base URL for OpenWeatherMap API.\n",
    "BASE_URL = \"http://api.openweathermap.org/data/2.5/weather?\"\n",
    "\n",
    "#Assigning My API key to the variable API_KEy.\n",
    "API_KEY = \"3ace17cec6080822886aa79b5d5dd14a\"\n",
    "\n",
    "#Prompt the user to enter their city name.\n",
    "CITYNAME = input(\"Enter your city name : \")\n",
    "\n",
    "#Constructed the URL for the weather API request by combining BASE_URL, API_KEY, and CITYNAME\n",
    "URL = BASE_URL + \"appid=\" + API_KEY + \"&q=\" + CITYNAME\n",
    "\n",
    "#Sending an HTTP GET request to the specified URL and parse the response as JSON\n",
    "response = rq.get(URL).json()"
   ]
  },
  {
   "cell_type": "markdown",
   "id": "e974bc17",
   "metadata": {},
   "source": [
    "# Declaring all the Weather related Variables"
   ]
  },
  {
   "cell_type": "code",
   "execution_count": 36,
   "id": "ca45237b",
   "metadata": {},
   "outputs": [],
   "source": [
    "#Creating function to convert Kelvin to Celsius and Fahrenheit\n",
    "def kelvin_to_celsius_fahrenheit(kelvin):\n",
    "    # Convert Kelvin to Celsius\n",
    "    celsius = kelvin - 273.15   \n",
    "    \n",
    "    # Convert Celsius to Fahrenheit\n",
    "    fahrenheit = celsius * (9-5) + 35\n",
    "    \n",
    "    # Return the temperature in both Celsius and Fahrenheit\n",
    "    return celsius, fahrenheit \n",
    "\n",
    "#Declaring kelvin variable\n",
    "temp_kelvin = response['main']['temp']\n",
    "\n",
    "#Declaring celsius and fahrenheit variable\n",
    "temp_celsius, temp_fahrenheit = kelvin_to_celsius_fahrenheit(temp_kelvin)\n",
    "\n",
    "#Declaring country variable\n",
    "COUNTRY = response['sys']['country']\n",
    "\n",
    "#Declaring kelvin feels like variable\n",
    "feels_like_kelvin = response['main']['feels_like']\n",
    "\n",
    "#Declaring celsiuc and fahrenheit feels like variable\n",
    "feels_like_celsius, feels_like_fahrenheit = kelvin_to_celsius_fahrenheit(feels_like_kelvin)\n",
    "\n",
    "#Declaring humidity variable\n",
    "HUMIDITY = response['main']['humidity']\n",
    "\n",
    "#Declaring wind speed variable\n",
    "WIND_SPEED = response['wind']['speed']\n",
    "\n",
    "#Declaring weather descripting variable\n",
    "DESCRIPTION = response['weather'][0]['description']\n",
    "\n",
    "#Declaring sunrise time variable\n",
    "SUNRISE = dt.datetime.utcfromtimestamp(response['sys']['sunrise'] + response['timezone'])\n",
    "\n",
    "#Declaring sunset time variable\n",
    "SUNSET = dt.datetime.utcfromtimestamp(response['sys']['sunset'] + response['timezone'])\n"
   ]
  },
  {
   "cell_type": "markdown",
   "id": "0fce6657",
   "metadata": {},
   "source": [
    "# Printing all the fetched info's related to weather."
   ]
  },
  {
   "cell_type": "code",
   "execution_count": 37,
   "id": "1af29618",
   "metadata": {},
   "outputs": [
    {
     "name": "stdout",
     "output_type": "stream",
     "text": [
      "Pune is in IN\n",
      "Temperature in Pune is : 22.78ºC or 126.12ºF\n",
      "Temperature in Pune feels like : 23.49ºC or 128.96ºF\n",
      "Humidity in Pune is : 91 %\n",
      "Wind speed in Pune : 3.51 Kmph\n",
      "General weather in Pune : overcast clouds\n",
      "Sun rises in Pune at 2023-09-09 06:21:24 local time.\n",
      "Sun sets in Pune at 2023-09-09 18:43:15 local time.\n"
     ]
    }
   ],
   "source": [
    "#Returns CITYNAME & Country\n",
    "A = (f\"{CITYNAME} is in {COUNTRY}\")\n",
    "print(A)\n",
    "\n",
    "#Returns Temperature in Celsius & Fahrenheit\n",
    "B = (f\"Temperature in {CITYNAME} is : {temp_celsius:.2f}ºC or {temp_fahrenheit:.2f}ºF\")\n",
    "print(B)\n",
    "\n",
    "#Returns Fells like Temperatur in Celsius & Fahrenheit\n",
    "C = (f\"Temperature in {CITYNAME} feels like : {feels_like_celsius:.2f}ºC or {feels_like_fahrenheit:.2f}ºF\")\n",
    "print(C)\n",
    "\n",
    "#Returns humidiy\n",
    "D = (f\"Humidity in {CITYNAME} is : {HUMIDITY} %\")\n",
    "print(D)\n",
    "\n",
    "#Returns wind speed \n",
    "E = (f\"Wind speed in {CITYNAME} : {WIND_SPEED} Kmph\")\n",
    "print(E)\n",
    "\n",
    "#Returns weather condition \n",
    "F = (f\"General weather in {CITYNAME} : {DESCRIPTION}\")\n",
    "print(F)\n",
    "\n",
    "#Returns sunrise time\n",
    "G = (f\"Sun rises in {CITYNAME} at {SUNRISE} local time.\")\n",
    "print(G)\n",
    "\n",
    "#Returns Sunset time\n",
    "H = (f\"Sun sets in {CITYNAME} at {SUNSET} local time.\")\n",
    "print(H)"
   ]
  },
  {
   "cell_type": "code",
   "execution_count": null,
   "id": "5208e9ea",
   "metadata": {},
   "outputs": [],
   "source": []
  }
 ],
 "metadata": {
  "kernelspec": {
   "display_name": "Python 3 (ipykernel)",
   "language": "python",
   "name": "python3"
  },
  "language_info": {
   "codemirror_mode": {
    "name": "ipython",
    "version": 3
   },
   "file_extension": ".py",
   "mimetype": "text/x-python",
   "name": "python",
   "nbconvert_exporter": "python",
   "pygments_lexer": "ipython3",
   "version": "3.11.3"
  }
 },
 "nbformat": 4,
 "nbformat_minor": 5
}
